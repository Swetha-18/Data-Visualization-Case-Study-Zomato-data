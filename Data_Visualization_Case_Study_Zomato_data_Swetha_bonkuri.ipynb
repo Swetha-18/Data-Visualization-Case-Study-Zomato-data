{
  "nbformat": 4,
  "nbformat_minor": 0,
  "metadata": {
    "colab": {
      "provenance": [],
      "authorship_tag": "ABX9TyPWDzpvsvEEb+TL3X+xN4RF",
      "include_colab_link": true
    },
    "kernelspec": {
      "name": "python3",
      "display_name": "Python 3"
    },
    "language_info": {
      "name": "python"
    }
  },
  "cells": [
    {
      "cell_type": "markdown",
      "metadata": {
        "id": "view-in-github",
        "colab_type": "text"
      },
      "source": [
        "<a href=\"https://colab.research.google.com/github/Swetha-18/Data-Visualization-Case-Study-Zomato-data/blob/main/Data_Visualization_Case_Study_Zomato_data_Swetha_bonkuri.ipynb\" target=\"_parent\"><img src=\"https://colab.research.google.com/assets/colab-badge.svg\" alt=\"Open In Colab\"/></a>"
      ]
    },
    {
      "cell_type": "code",
      "execution_count": null,
      "metadata": {
        "id": "U6bHrXKD9P5k"
      },
      "outputs": [],
      "source": [
        "# Dataset : Zomato data\n",
        "# Plot the bar graph of number of restaurants present in Delhi NCR vs Rest of India.\n",
        "# Import necessary libraries\n",
        "import numpy as np\n",
        "import pandas as pd\n",
        "import matplotlib.pyplot as plt\n"
      ]
    },
    {
      "cell_type": "code",
      "source": [
        "# Step 1: Load the dataset\n",
        "df = pd.read_csv(\"/content/zomato_utf.csv\")"
      ],
      "metadata": {
        "id": "-qW3cRTK9320"
      },
      "execution_count": null,
      "outputs": []
    },
    {
      "cell_type": "code",
      "source": [
        "# check data such as info, index, column names\n",
        "df.head()\n"
      ],
      "metadata": {
        "colab": {
          "base_uri": "https://localhost:8080/",
          "height": 810
        },
        "id": "1rUWxDDg-cQn",
        "outputId": "a9c3eb88-b9af-47c8-dd61-73b6b67ccfbf"
      },
      "execution_count": null,
      "outputs": [
        {
          "output_type": "execute_result",
          "data": {
            "text/plain": [
              "   Restaurant ID         Restaurant Name  Country Code              City  \\\n",
              "0        6317637        Le Petit Souffle           162       Makati City   \n",
              "1        6304287        Izakaya Kikufuji           162       Makati City   \n",
              "2        6300002  Heat - Edsa Shangri-La           162  Mandaluyong City   \n",
              "3        6318506                    Ooma           162  Mandaluyong City   \n",
              "4        6314302             Sambo Kojin           162  Mandaluyong City   \n",
              "\n",
              "                                             Address  \\\n",
              "0  Third Floor, Century City Mall, Kalayaan Avenu...   \n",
              "1  Little Tokyo, 2277 Chino Roces Avenue, Legaspi...   \n",
              "2  Edsa Shangri-La, 1 Garden Way, Ortigas, Mandal...   \n",
              "3  Third Floor, Mega Fashion Hall, SM Megamall, O...   \n",
              "4  Third Floor, Mega Atrium, SM Megamall, Ortigas...   \n",
              "\n",
              "                                     Locality  \\\n",
              "0   Century City Mall, Poblacion, Makati City   \n",
              "1  Little Tokyo, Legaspi Village, Makati City   \n",
              "2  Edsa Shangri-La, Ortigas, Mandaluyong City   \n",
              "3      SM Megamall, Ortigas, Mandaluyong City   \n",
              "4      SM Megamall, Ortigas, Mandaluyong City   \n",
              "\n",
              "                                    Locality Verbose   Longitude   Latitude  \\\n",
              "0  Century City Mall, Poblacion, Makati City, Mak...  121.027535  14.565443   \n",
              "1  Little Tokyo, Legaspi Village, Makati City, Ma...  121.014101  14.553708   \n",
              "2  Edsa Shangri-La, Ortigas, Mandaluyong City, Ma...  121.056831  14.581404   \n",
              "3  SM Megamall, Ortigas, Mandaluyong City, Mandal...  121.056475  14.585318   \n",
              "4  SM Megamall, Ortigas, Mandaluyong City, Mandal...  121.057508  14.584450   \n",
              "\n",
              "                           Cuisines  ...          Currency Has Table booking  \\\n",
              "0        French, Japanese, Desserts  ...  Botswana Pula(P)               Yes   \n",
              "1                          Japanese  ...  Botswana Pula(P)               Yes   \n",
              "2  Seafood, Asian, Filipino, Indian  ...  Botswana Pula(P)               Yes   \n",
              "3                   Japanese, Sushi  ...  Botswana Pula(P)                No   \n",
              "4                  Japanese, Korean  ...  Botswana Pula(P)               Yes   \n",
              "\n",
              "  Has Online delivery Is delivering now Switch to order menu Price range  \\\n",
              "0                  No                No                   No           3   \n",
              "1                  No                No                   No           3   \n",
              "2                  No                No                   No           4   \n",
              "3                  No                No                   No           4   \n",
              "4                  No                No                   No           4   \n",
              "\n",
              "   Aggregate rating  Rating color Rating text Votes  \n",
              "0               4.8    Dark Green   Excellent   314  \n",
              "1               4.5    Dark Green   Excellent   591  \n",
              "2               4.4         Green   Very Good   270  \n",
              "3               4.9    Dark Green   Excellent   365  \n",
              "4               4.8    Dark Green   Excellent   229  \n",
              "\n",
              "[5 rows x 21 columns]"
            ],
            "text/html": [
              "\n",
              "  <div id=\"df-a66dcf7e-1d22-4c38-baa1-b92fb146f486\" class=\"colab-df-container\">\n",
              "    <div>\n",
              "<style scoped>\n",
              "    .dataframe tbody tr th:only-of-type {\n",
              "        vertical-align: middle;\n",
              "    }\n",
              "\n",
              "    .dataframe tbody tr th {\n",
              "        vertical-align: top;\n",
              "    }\n",
              "\n",
              "    .dataframe thead th {\n",
              "        text-align: right;\n",
              "    }\n",
              "</style>\n",
              "<table border=\"1\" class=\"dataframe\">\n",
              "  <thead>\n",
              "    <tr style=\"text-align: right;\">\n",
              "      <th></th>\n",
              "      <th>Restaurant ID</th>\n",
              "      <th>Restaurant Name</th>\n",
              "      <th>Country Code</th>\n",
              "      <th>City</th>\n",
              "      <th>Address</th>\n",
              "      <th>Locality</th>\n",
              "      <th>Locality Verbose</th>\n",
              "      <th>Longitude</th>\n",
              "      <th>Latitude</th>\n",
              "      <th>Cuisines</th>\n",
              "      <th>...</th>\n",
              "      <th>Currency</th>\n",
              "      <th>Has Table booking</th>\n",
              "      <th>Has Online delivery</th>\n",
              "      <th>Is delivering now</th>\n",
              "      <th>Switch to order menu</th>\n",
              "      <th>Price range</th>\n",
              "      <th>Aggregate rating</th>\n",
              "      <th>Rating color</th>\n",
              "      <th>Rating text</th>\n",
              "      <th>Votes</th>\n",
              "    </tr>\n",
              "  </thead>\n",
              "  <tbody>\n",
              "    <tr>\n",
              "      <th>0</th>\n",
              "      <td>6317637</td>\n",
              "      <td>Le Petit Souffle</td>\n",
              "      <td>162</td>\n",
              "      <td>Makati City</td>\n",
              "      <td>Third Floor, Century City Mall, Kalayaan Avenu...</td>\n",
              "      <td>Century City Mall, Poblacion, Makati City</td>\n",
              "      <td>Century City Mall, Poblacion, Makati City, Mak...</td>\n",
              "      <td>121.027535</td>\n",
              "      <td>14.565443</td>\n",
              "      <td>French, Japanese, Desserts</td>\n",
              "      <td>...</td>\n",
              "      <td>Botswana Pula(P)</td>\n",
              "      <td>Yes</td>\n",
              "      <td>No</td>\n",
              "      <td>No</td>\n",
              "      <td>No</td>\n",
              "      <td>3</td>\n",
              "      <td>4.8</td>\n",
              "      <td>Dark Green</td>\n",
              "      <td>Excellent</td>\n",
              "      <td>314</td>\n",
              "    </tr>\n",
              "    <tr>\n",
              "      <th>1</th>\n",
              "      <td>6304287</td>\n",
              "      <td>Izakaya Kikufuji</td>\n",
              "      <td>162</td>\n",
              "      <td>Makati City</td>\n",
              "      <td>Little Tokyo, 2277 Chino Roces Avenue, Legaspi...</td>\n",
              "      <td>Little Tokyo, Legaspi Village, Makati City</td>\n",
              "      <td>Little Tokyo, Legaspi Village, Makati City, Ma...</td>\n",
              "      <td>121.014101</td>\n",
              "      <td>14.553708</td>\n",
              "      <td>Japanese</td>\n",
              "      <td>...</td>\n",
              "      <td>Botswana Pula(P)</td>\n",
              "      <td>Yes</td>\n",
              "      <td>No</td>\n",
              "      <td>No</td>\n",
              "      <td>No</td>\n",
              "      <td>3</td>\n",
              "      <td>4.5</td>\n",
              "      <td>Dark Green</td>\n",
              "      <td>Excellent</td>\n",
              "      <td>591</td>\n",
              "    </tr>\n",
              "    <tr>\n",
              "      <th>2</th>\n",
              "      <td>6300002</td>\n",
              "      <td>Heat - Edsa Shangri-La</td>\n",
              "      <td>162</td>\n",
              "      <td>Mandaluyong City</td>\n",
              "      <td>Edsa Shangri-La, 1 Garden Way, Ortigas, Mandal...</td>\n",
              "      <td>Edsa Shangri-La, Ortigas, Mandaluyong City</td>\n",
              "      <td>Edsa Shangri-La, Ortigas, Mandaluyong City, Ma...</td>\n",
              "      <td>121.056831</td>\n",
              "      <td>14.581404</td>\n",
              "      <td>Seafood, Asian, Filipino, Indian</td>\n",
              "      <td>...</td>\n",
              "      <td>Botswana Pula(P)</td>\n",
              "      <td>Yes</td>\n",
              "      <td>No</td>\n",
              "      <td>No</td>\n",
              "      <td>No</td>\n",
              "      <td>4</td>\n",
              "      <td>4.4</td>\n",
              "      <td>Green</td>\n",
              "      <td>Very Good</td>\n",
              "      <td>270</td>\n",
              "    </tr>\n",
              "    <tr>\n",
              "      <th>3</th>\n",
              "      <td>6318506</td>\n",
              "      <td>Ooma</td>\n",
              "      <td>162</td>\n",
              "      <td>Mandaluyong City</td>\n",
              "      <td>Third Floor, Mega Fashion Hall, SM Megamall, O...</td>\n",
              "      <td>SM Megamall, Ortigas, Mandaluyong City</td>\n",
              "      <td>SM Megamall, Ortigas, Mandaluyong City, Mandal...</td>\n",
              "      <td>121.056475</td>\n",
              "      <td>14.585318</td>\n",
              "      <td>Japanese, Sushi</td>\n",
              "      <td>...</td>\n",
              "      <td>Botswana Pula(P)</td>\n",
              "      <td>No</td>\n",
              "      <td>No</td>\n",
              "      <td>No</td>\n",
              "      <td>No</td>\n",
              "      <td>4</td>\n",
              "      <td>4.9</td>\n",
              "      <td>Dark Green</td>\n",
              "      <td>Excellent</td>\n",
              "      <td>365</td>\n",
              "    </tr>\n",
              "    <tr>\n",
              "      <th>4</th>\n",
              "      <td>6314302</td>\n",
              "      <td>Sambo Kojin</td>\n",
              "      <td>162</td>\n",
              "      <td>Mandaluyong City</td>\n",
              "      <td>Third Floor, Mega Atrium, SM Megamall, Ortigas...</td>\n",
              "      <td>SM Megamall, Ortigas, Mandaluyong City</td>\n",
              "      <td>SM Megamall, Ortigas, Mandaluyong City, Mandal...</td>\n",
              "      <td>121.057508</td>\n",
              "      <td>14.584450</td>\n",
              "      <td>Japanese, Korean</td>\n",
              "      <td>...</td>\n",
              "      <td>Botswana Pula(P)</td>\n",
              "      <td>Yes</td>\n",
              "      <td>No</td>\n",
              "      <td>No</td>\n",
              "      <td>No</td>\n",
              "      <td>4</td>\n",
              "      <td>4.8</td>\n",
              "      <td>Dark Green</td>\n",
              "      <td>Excellent</td>\n",
              "      <td>229</td>\n",
              "    </tr>\n",
              "  </tbody>\n",
              "</table>\n",
              "<p>5 rows × 21 columns</p>\n",
              "</div>\n",
              "    <div class=\"colab-df-buttons\">\n",
              "\n",
              "  <div class=\"colab-df-container\">\n",
              "    <button class=\"colab-df-convert\" onclick=\"convertToInteractive('df-a66dcf7e-1d22-4c38-baa1-b92fb146f486')\"\n",
              "            title=\"Convert this dataframe to an interactive table.\"\n",
              "            style=\"display:none;\">\n",
              "\n",
              "  <svg xmlns=\"http://www.w3.org/2000/svg\" height=\"24px\" viewBox=\"0 -960 960 960\">\n",
              "    <path d=\"M120-120v-720h720v720H120Zm60-500h600v-160H180v160Zm220 220h160v-160H400v160Zm0 220h160v-160H400v160ZM180-400h160v-160H180v160Zm440 0h160v-160H620v160ZM180-180h160v-160H180v160Zm440 0h160v-160H620v160Z\"/>\n",
              "  </svg>\n",
              "    </button>\n",
              "\n",
              "  <style>\n",
              "    .colab-df-container {\n",
              "      display:flex;\n",
              "      gap: 12px;\n",
              "    }\n",
              "\n",
              "    .colab-df-convert {\n",
              "      background-color: #E8F0FE;\n",
              "      border: none;\n",
              "      border-radius: 50%;\n",
              "      cursor: pointer;\n",
              "      display: none;\n",
              "      fill: #1967D2;\n",
              "      height: 32px;\n",
              "      padding: 0 0 0 0;\n",
              "      width: 32px;\n",
              "    }\n",
              "\n",
              "    .colab-df-convert:hover {\n",
              "      background-color: #E2EBFA;\n",
              "      box-shadow: 0px 1px 2px rgba(60, 64, 67, 0.3), 0px 1px 3px 1px rgba(60, 64, 67, 0.15);\n",
              "      fill: #174EA6;\n",
              "    }\n",
              "\n",
              "    .colab-df-buttons div {\n",
              "      margin-bottom: 4px;\n",
              "    }\n",
              "\n",
              "    [theme=dark] .colab-df-convert {\n",
              "      background-color: #3B4455;\n",
              "      fill: #D2E3FC;\n",
              "    }\n",
              "\n",
              "    [theme=dark] .colab-df-convert:hover {\n",
              "      background-color: #434B5C;\n",
              "      box-shadow: 0px 1px 3px 1px rgba(0, 0, 0, 0.15);\n",
              "      filter: drop-shadow(0px 1px 2px rgba(0, 0, 0, 0.3));\n",
              "      fill: #FFFFFF;\n",
              "    }\n",
              "  </style>\n",
              "\n",
              "    <script>\n",
              "      const buttonEl =\n",
              "        document.querySelector('#df-a66dcf7e-1d22-4c38-baa1-b92fb146f486 button.colab-df-convert');\n",
              "      buttonEl.style.display =\n",
              "        google.colab.kernel.accessAllowed ? 'block' : 'none';\n",
              "\n",
              "      async function convertToInteractive(key) {\n",
              "        const element = document.querySelector('#df-a66dcf7e-1d22-4c38-baa1-b92fb146f486');\n",
              "        const dataTable =\n",
              "          await google.colab.kernel.invokeFunction('convertToInteractive',\n",
              "                                                    [key], {});\n",
              "        if (!dataTable) return;\n",
              "\n",
              "        const docLinkHtml = 'Like what you see? Visit the ' +\n",
              "          '<a target=\"_blank\" href=https://colab.research.google.com/notebooks/data_table.ipynb>data table notebook</a>'\n",
              "          + ' to learn more about interactive tables.';\n",
              "        element.innerHTML = '';\n",
              "        dataTable['output_type'] = 'display_data';\n",
              "        await google.colab.output.renderOutput(dataTable, element);\n",
              "        const docLink = document.createElement('div');\n",
              "        docLink.innerHTML = docLinkHtml;\n",
              "        element.appendChild(docLink);\n",
              "      }\n",
              "    </script>\n",
              "  </div>\n",
              "\n",
              "\n",
              "<div id=\"df-372d6c38-61b0-41fc-8508-ad4d7b88b59b\">\n",
              "  <button class=\"colab-df-quickchart\" onclick=\"quickchart('df-372d6c38-61b0-41fc-8508-ad4d7b88b59b')\"\n",
              "            title=\"Suggest charts.\"\n",
              "            style=\"display:none;\">\n",
              "\n",
              "<svg xmlns=\"http://www.w3.org/2000/svg\" height=\"24px\"viewBox=\"0 0 24 24\"\n",
              "     width=\"24px\">\n",
              "    <g>\n",
              "        <path d=\"M19 3H5c-1.1 0-2 .9-2 2v14c0 1.1.9 2 2 2h14c1.1 0 2-.9 2-2V5c0-1.1-.9-2-2-2zM9 17H7v-7h2v7zm4 0h-2V7h2v10zm4 0h-2v-4h2v4z\"/>\n",
              "    </g>\n",
              "</svg>\n",
              "  </button>\n",
              "\n",
              "<style>\n",
              "  .colab-df-quickchart {\n",
              "      --bg-color: #E8F0FE;\n",
              "      --fill-color: #1967D2;\n",
              "      --hover-bg-color: #E2EBFA;\n",
              "      --hover-fill-color: #174EA6;\n",
              "      --disabled-fill-color: #AAA;\n",
              "      --disabled-bg-color: #DDD;\n",
              "  }\n",
              "\n",
              "  [theme=dark] .colab-df-quickchart {\n",
              "      --bg-color: #3B4455;\n",
              "      --fill-color: #D2E3FC;\n",
              "      --hover-bg-color: #434B5C;\n",
              "      --hover-fill-color: #FFFFFF;\n",
              "      --disabled-bg-color: #3B4455;\n",
              "      --disabled-fill-color: #666;\n",
              "  }\n",
              "\n",
              "  .colab-df-quickchart {\n",
              "    background-color: var(--bg-color);\n",
              "    border: none;\n",
              "    border-radius: 50%;\n",
              "    cursor: pointer;\n",
              "    display: none;\n",
              "    fill: var(--fill-color);\n",
              "    height: 32px;\n",
              "    padding: 0;\n",
              "    width: 32px;\n",
              "  }\n",
              "\n",
              "  .colab-df-quickchart:hover {\n",
              "    background-color: var(--hover-bg-color);\n",
              "    box-shadow: 0 1px 2px rgba(60, 64, 67, 0.3), 0 1px 3px 1px rgba(60, 64, 67, 0.15);\n",
              "    fill: var(--button-hover-fill-color);\n",
              "  }\n",
              "\n",
              "  .colab-df-quickchart-complete:disabled,\n",
              "  .colab-df-quickchart-complete:disabled:hover {\n",
              "    background-color: var(--disabled-bg-color);\n",
              "    fill: var(--disabled-fill-color);\n",
              "    box-shadow: none;\n",
              "  }\n",
              "\n",
              "  .colab-df-spinner {\n",
              "    border: 2px solid var(--fill-color);\n",
              "    border-color: transparent;\n",
              "    border-bottom-color: var(--fill-color);\n",
              "    animation:\n",
              "      spin 1s steps(1) infinite;\n",
              "  }\n",
              "\n",
              "  @keyframes spin {\n",
              "    0% {\n",
              "      border-color: transparent;\n",
              "      border-bottom-color: var(--fill-color);\n",
              "      border-left-color: var(--fill-color);\n",
              "    }\n",
              "    20% {\n",
              "      border-color: transparent;\n",
              "      border-left-color: var(--fill-color);\n",
              "      border-top-color: var(--fill-color);\n",
              "    }\n",
              "    30% {\n",
              "      border-color: transparent;\n",
              "      border-left-color: var(--fill-color);\n",
              "      border-top-color: var(--fill-color);\n",
              "      border-right-color: var(--fill-color);\n",
              "    }\n",
              "    40% {\n",
              "      border-color: transparent;\n",
              "      border-right-color: var(--fill-color);\n",
              "      border-top-color: var(--fill-color);\n",
              "    }\n",
              "    60% {\n",
              "      border-color: transparent;\n",
              "      border-right-color: var(--fill-color);\n",
              "    }\n",
              "    80% {\n",
              "      border-color: transparent;\n",
              "      border-right-color: var(--fill-color);\n",
              "      border-bottom-color: var(--fill-color);\n",
              "    }\n",
              "    90% {\n",
              "      border-color: transparent;\n",
              "      border-bottom-color: var(--fill-color);\n",
              "    }\n",
              "  }\n",
              "</style>\n",
              "\n",
              "  <script>\n",
              "    async function quickchart(key) {\n",
              "      const quickchartButtonEl =\n",
              "        document.querySelector('#' + key + ' button');\n",
              "      quickchartButtonEl.disabled = true;  // To prevent multiple clicks.\n",
              "      quickchartButtonEl.classList.add('colab-df-spinner');\n",
              "      try {\n",
              "        const charts = await google.colab.kernel.invokeFunction(\n",
              "            'suggestCharts', [key], {});\n",
              "      } catch (error) {\n",
              "        console.error('Error during call to suggestCharts:', error);\n",
              "      }\n",
              "      quickchartButtonEl.classList.remove('colab-df-spinner');\n",
              "      quickchartButtonEl.classList.add('colab-df-quickchart-complete');\n",
              "    }\n",
              "    (() => {\n",
              "      let quickchartButtonEl =\n",
              "        document.querySelector('#df-372d6c38-61b0-41fc-8508-ad4d7b88b59b button');\n",
              "      quickchartButtonEl.style.display =\n",
              "        google.colab.kernel.accessAllowed ? 'block' : 'none';\n",
              "    })();\n",
              "  </script>\n",
              "</div>\n",
              "    </div>\n",
              "  </div>\n"
            ]
          },
          "metadata": {},
          "execution_count": 33
        }
      ]
    },
    {
      "cell_type": "code",
      "source": [
        "df.info()"
      ],
      "metadata": {
        "colab": {
          "base_uri": "https://localhost:8080/"
        },
        "id": "GPnDQSy4-qNe",
        "outputId": "75a97d25-c78a-4ae3-e18e-ace461903864"
      },
      "execution_count": null,
      "outputs": [
        {
          "output_type": "stream",
          "name": "stdout",
          "text": [
            "<class 'pandas.core.frame.DataFrame'>\n",
            "RangeIndex: 9551 entries, 0 to 9550\n",
            "Data columns (total 21 columns):\n",
            " #   Column                Non-Null Count  Dtype  \n",
            "---  ------                --------------  -----  \n",
            " 0   Restaurant ID         9551 non-null   int64  \n",
            " 1   Restaurant Name       9551 non-null   object \n",
            " 2   Country Code          9551 non-null   int64  \n",
            " 3   City                  9551 non-null   object \n",
            " 4   Address               9551 non-null   object \n",
            " 5   Locality              9551 non-null   object \n",
            " 6   Locality Verbose      9551 non-null   object \n",
            " 7   Longitude             9551 non-null   float64\n",
            " 8   Latitude              9551 non-null   float64\n",
            " 9   Cuisines              9542 non-null   object \n",
            " 10  Average Cost for two  9551 non-null   int64  \n",
            " 11  Currency              9551 non-null   object \n",
            " 12  Has Table booking     9551 non-null   object \n",
            " 13  Has Online delivery   9551 non-null   object \n",
            " 14  Is delivering now     9551 non-null   object \n",
            " 15  Switch to order menu  9551 non-null   object \n",
            " 16  Price range           9551 non-null   int64  \n",
            " 17  Aggregate rating      9551 non-null   float64\n",
            " 18  Rating color          9551 non-null   object \n",
            " 19  Rating text           9551 non-null   object \n",
            " 20  Votes                 9551 non-null   int64  \n",
            "dtypes: float64(3), int64(5), object(13)\n",
            "memory usage: 1.5+ MB\n"
          ]
        }
      ]
    },
    {
      "cell_type": "code",
      "source": [
        "column_names = df.columns\n",
        "print(column_names)"
      ],
      "metadata": {
        "colab": {
          "base_uri": "https://localhost:8080/"
        },
        "id": "n-2w8vLW-xxf",
        "outputId": "3fd0bfda-8c33-4a82-90b7-c0d218429a6f"
      },
      "execution_count": null,
      "outputs": [
        {
          "output_type": "stream",
          "name": "stdout",
          "text": [
            "Index(['Restaurant ID', 'Restaurant Name', 'Country Code', 'City', 'Address',\n",
            "       'Locality', 'Locality Verbose', 'Longitude', 'Latitude', 'Cuisines',\n",
            "       'Average Cost for two', 'Currency', 'Has Table booking',\n",
            "       'Has Online delivery', 'Is delivering now', 'Switch to order menu',\n",
            "       'Price range', 'Aggregate rating', 'Rating color', 'Rating text',\n",
            "       'Votes'],\n",
            "      dtype='object')\n"
          ]
        }
      ]
    },
    {
      "cell_type": "code",
      "source": [
        "# check for missing values\n",
        "df.isnull().sum()"
      ],
      "metadata": {
        "colab": {
          "base_uri": "https://localhost:8080/"
        },
        "id": "coJxRLd3_X-v",
        "outputId": "928c79b0-2e2b-4a7a-a0a3-98dcd7d87571"
      },
      "execution_count": null,
      "outputs": [
        {
          "output_type": "execute_result",
          "data": {
            "text/plain": [
              "Restaurant ID           0\n",
              "Restaurant Name         0\n",
              "Country Code            0\n",
              "City                    0\n",
              "Address                 0\n",
              "Locality                0\n",
              "Locality Verbose        0\n",
              "Longitude               0\n",
              "Latitude                0\n",
              "Cuisines                9\n",
              "Average Cost for two    0\n",
              "Currency                0\n",
              "Has Table booking       0\n",
              "Has Online delivery     0\n",
              "Is delivering now       0\n",
              "Switch to order menu    0\n",
              "Price range             0\n",
              "Aggregate rating        0\n",
              "Rating color            0\n",
              "Rating text             0\n",
              "Votes                   0\n",
              "dtype: int64"
            ]
          },
          "metadata": {},
          "execution_count": 36
        }
      ]
    },
    {
      "cell_type": "code",
      "source": [
        "# check city\n",
        "df.City\n"
      ],
      "metadata": {
        "colab": {
          "base_uri": "https://localhost:8080/"
        },
        "id": "yt6wl2a9_sUA",
        "outputId": "3765b324-ce82-4f0d-c47d-1adff1199a8d"
      },
      "execution_count": null,
      "outputs": [
        {
          "output_type": "execute_result",
          "data": {
            "text/plain": [
              "0            Makati City\n",
              "1            Makati City\n",
              "2       Mandaluyong City\n",
              "3       Mandaluyong City\n",
              "4       Mandaluyong City\n",
              "              ...       \n",
              "9546           €¡stanbul\n",
              "9547           €¡stanbul\n",
              "9548           €¡stanbul\n",
              "9549           €¡stanbul\n",
              "9550           €¡stanbul\n",
              "Name: City, Length: 9551, dtype: object"
            ]
          },
          "metadata": {},
          "execution_count": 37
        }
      ]
    },
    {
      "cell_type": "code",
      "source": [
        "# our analysis turn toward Delhi-NCR v Rest of India.\n",
        "df_delhi_ncr = df[df[\"City\"].isin([\"New Delhi\", \"Ghaziabad\", \"Noida\", \"Gurgaon\", \"Faridabad\"])]\n",
        "df_rest_of_india = df[~df[\"City\"].isin([\"New Delhi\", \"Ghaziabad\", \"Noida\", \"Gurgaon\", \"Faridabad\"])]\n",
        "\n",
        "plt.figure(figsize=(10, 6))\n",
        "plt.bar(\"Delhi NCR\", len(df_delhi_ncr), label=\"Delhi NCR\")\n",
        "plt.bar(\"Rest of India\", len(df_rest_of_india), label=\"Rest of India\")\n",
        "plt.xlabel(\"Location\")\n",
        "plt.ylabel(\"Number of Restaurants\")\n",
        "plt.title(\"Number of Restaurants in Delhi NCR vs Rest of India\")\n",
        "plt.legend()\n",
        "plt.show()\n"
      ],
      "metadata": {
        "colab": {
          "base_uri": "https://localhost:8080/",
          "height": 564
        },
        "id": "Evxqi4Pp-63F",
        "outputId": "39671b01-6467-4774-bc1b-848d02769710"
      },
      "execution_count": null,
      "outputs": [
        {
          "output_type": "display_data",
          "data": {
            "text/plain": [
              "<Figure size 1000x600 with 1 Axes>"
            ],
            "image/png": "[encoded data removed]"
          },
          "metadata": {}
        }
      ]
    },
    {
      "cell_type": "code",
      "source": [
        "# 1.Plot the bar graph of number of restaurants present in Delhi NCR vs Rest of India.\n",
        "# Calculate the number of restaurants in Delhi NCR vs Rest of India\n",
        "city_counts = df['City'].value_counts()"
      ],
      "metadata": {
        "id": "niGvZj87_NB6"
      },
      "execution_count": null,
      "outputs": []
    },
    {
      "cell_type": "code",
      "source": [
        "city_counts"
      ],
      "metadata": {
        "colab": {
          "base_uri": "https://localhost:8080/"
        },
        "id": "ubdlGVs__mwU",
        "outputId": "53148b46-e3fb-49af-d243-192ca170bc27"
      },
      "execution_count": null,
      "outputs": [
        {
          "output_type": "execute_result",
          "data": {
            "text/plain": [
              "New Delhi           5473\n",
              "Gurgaon             1118\n",
              "Noida               1080\n",
              "Faridabad            251\n",
              "Ghaziabad             25\n",
              "                    ... \n",
              "Panchkula              1\n",
              "Mc Millan              1\n",
              "Mayfield               1\n",
              "Macedon                1\n",
              "Vineland Station       1\n",
              "Name: City, Length: 141, dtype: int64"
            ]
          },
          "metadata": {},
          "execution_count": 41
        }
      ]
    },
    {
      "cell_type": "code",
      "source": [
        "# Create a bar graph\n",
        "plt.figure(figsize=(8,5))\n",
        "plt.bar(city_counts.index,city_counts.values)\n",
        "plt.xlabel(\"City\")\n",
        "plt.ylabel(\"Number of Restuarants\")\n",
        "plt.title(\"Number of Restuarants in Delhi NCR vs Rest of India\")\n",
        "plt.show()"
      ],
      "metadata": {
        "colab": {
          "base_uri": "https://localhost:8080/",
          "height": 489
        },
        "id": "3YDScL1iAiCl",
        "outputId": "baca1336-de57-4177-b1b0-511186e049cd"
      },
      "execution_count": null,
      "outputs": [
        {
          "output_type": "display_data",
          "data": {
            "text/plain": [
              "<Figure size 800x500 with 1 Axes>"
            ],
            "image/png": "[encoded data removed]"
          },
          "metadata": {}
        }
      ]
    },
    {
      "cell_type": "code",
      "source": [
        "# 2. Find the cuisines which are not present in restaurant of Delhi NCR but present in rest of India.\n",
        "# Create sets of cuisines for Delhi NCR and Rest of India\n",
        "delhi_ncr_cuisines = set()\n",
        "rest_of_india_cuisines = set()"
      ],
      "metadata": {
        "id": "Y0WVJoURBSP8"
      },
      "execution_count": null,
      "outputs": []
    },
    {
      "cell_type": "code",
      "source": [
        "for index, row in df.iterrows():\n",
        "    cuisines = str(row[\"Cuisines\"])  # Convert to string to handle missing values\n",
        "    if row[\"City\"] == \"Delhi-NCR\":\n",
        "        if not pd.isna(cuisines):  # Check for missing values\n",
        "            delhi_ncr_cuisines.update(cuisines.split(\", \"))\n",
        "    else:\n",
        "        if not pd.isna(cuisines):  # Check for missing values\n",
        "            rest_of_india_cuisines.update(cuisines.split(\", \"))\n"
      ],
      "metadata": {
        "id": "fm4NwbbFF8UF"
      },
      "execution_count": null,
      "outputs": []
    },
    {
      "cell_type": "code",
      "source": [
        "# Find cuisines present in Rest of India but not in Delhi NCR\n",
        "cuisines_not_in_delhi_ncr = rest_of_india_cuisines - delhi_ncr_cuisines\n",
        "\n",
        "print(\"Cuisines not present in Delhi NCR but present in the Rest of India:\")\n",
        "for cuisine in cuisines_not_in_delhi_ncr:\n",
        "    print(cuisine)\n",
        "\n",
        "\n"
      ],
      "metadata": {
        "colab": {
          "base_uri": "https://localhost:8080/"
        },
        "id": "RtE7lAFvsLv6",
        "outputId": "25c5faf8-d3df-487f-b1c8-07a49f9a7853"
      },
      "execution_count": null,
      "outputs": [
        {
          "output_type": "stream",
          "name": "stdout",
          "text": [
            "Cuisines not present in Delhi NCR but present in the Rest of India:\n",
            "Modern Indian\n",
            "Fast Food\n",
            "Southern\n",
            "Soul Food\n",
            "Fusion\n",
            "Juices\n",
            "Peranakan\n",
            "Peruvian\n",
            "Irish\n",
            "Izgara\n",
            "Salad\n",
            "Rajasthani\n",
            "Japanese\n",
            "Maharashtrian\n",
            "Ice Cream\n",
            "Southwestern\n",
            "Belgian\n",
            "Teriyaki\n",
            "Drinks Only\n",
            "Steak\n",
            "Bubble Tea\n",
            "DÌ_ner\n",
            "Healthy Food\n",
            "Diner\n",
            "Kerala\n",
            "Contemporary\n",
            "Canadian\n",
            "Malaysian\n",
            "Vietnamese\n",
            "African\n",
            "North Eastern\n",
            "Grill\n",
            "Cajun\n",
            "Mineira\n",
            "Portuguese\n",
            "Caribbean\n",
            "Sunda\n",
            "Goan\n",
            "Tapas\n",
            "Turkish Pizza\n",
            "Sandwich\n",
            "Biryani\n",
            "Durban\n",
            "Mexican\n",
            "BÌ_rek\n",
            "Bakery\n",
            "Cuban\n",
            "Taiwanese\n",
            "Pakistani\n",
            "Fish and Chips\n",
            "Indonesian\n",
            "Tex-Mex\n",
            "Asian Fusion\n",
            "Gujarati\n",
            "Patisserie\n",
            "Beverages\n",
            "Naga\n",
            "Kashmiri\n",
            "Nepalese\n",
            "Bengali\n",
            "Pub Food\n",
            "Iranian\n",
            "Chinese\n",
            "Mediterranean\n",
            "New American\n",
            "Cuisine Varies\n",
            "Malay\n",
            "Burger\n",
            "Sri Lankan\n",
            "Oriya\n",
            "Charcoal Grill\n",
            "Seafood\n",
            "Malwani\n",
            "Italian\n",
            "Modern Australian\n",
            "Cantonese\n",
            "Brazilian\n",
            "Bihari\n",
            "World Cuisine\n",
            "German\n",
            "Bar Food\n",
            "South American\n",
            "Korean\n",
            "Australian\n",
            "Armenian\n",
            "Scottish\n",
            "Afghani\n",
            "American\n",
            "Breakfast\n",
            "Restaurant Cafe\n",
            "Tibetan\n",
            "Pizza\n",
            "Mughlai\n",
            "Hyderabadi\n",
            "Moroccan\n",
            "Dim Sum\n",
            "Andhra\n",
            "Mangalorean\n",
            "Assamese\n",
            "Persian\n",
            "Parsi\n",
            "Mithai\n",
            "Chettinad\n",
            "Curry\n",
            "International\n",
            "Indian\n",
            "Sushi\n",
            "Latin American\n",
            "Vegetarian\n",
            "North Indian\n",
            "Kebab\n",
            "Burmese\n",
            "Arabian\n",
            "Filipino\n",
            "French\n",
            "Cafe\n",
            "Coffee and Tea\n",
            "European\n",
            "Desserts\n",
            "Continental\n",
            "Finger Food\n",
            "Tea\n",
            "Thai\n",
            "Spanish\n",
            "Turkish\n",
            "South African\n",
            "South Indian\n",
            "Deli\n",
            "British\n",
            "Street Food\n",
            "nan\n",
            "Singaporean\n",
            "Raw Meats\n",
            "Asian\n",
            "Lebanese\n",
            "Kiwi\n",
            "Lucknowi\n",
            "BBQ\n",
            "Argentine\n",
            "Middle Eastern\n",
            "Hawaiian\n",
            "Western\n",
            "Gourmet Fast Food\n",
            "Ramen\n",
            "Awadhi\n",
            "Greek\n"
          ]
        }
      ]
    },
    {
      "cell_type": "code",
      "source": [
        "# 3. Find the top 10 cuisines served by maximum number of restaurants in Delhi NCR and rest of India.\n",
        "\n",
        "# Create dictionaries to store cuisine counts for Delhi NCR and Rest of India\n",
        "delhi_ncr_cuisine_counts = {}\n",
        "rest_of_india_cuisine_counts = {}\n",
        "\n",
        "for index, row in df.iterrows():\n",
        "    cuisines = str(row[\"Cuisines\"])  # Convert to string to handle missing values\n",
        "    city = row[\"City\"]\n",
        "\n",
        "    if not pd.isna(cuisines):  # Check for missing values\n",
        "        cuisine_list = cuisines.split(\", \")\n",
        "        for cuisine in cuisine_list:\n",
        "            if city == \"Delhi-NCR\":\n",
        "                delhi_ncr_cuisine_counts[cuisine] = delhi_ncr_cuisine_counts.get(cuisine, 0) + 1\n",
        "            else:\n",
        "                rest_of_india_cuisine_counts[cuisine] = rest_of_india_cuisine_counts.get(cuisine, 0) + 1\n",
        "\n",
        "# Find the top 10 cuisines for Delhi NCR\n",
        "top_10_delhi_ncr_cuisines = sorted(delhi_ncr_cuisine_counts.items(), key=lambda x: x[1], reverse=True)[:10]\n",
        "\n",
        "# Find the top 10 cuisines for Rest of India\n",
        "top_10_rest_of_india_cuisines = sorted(rest_of_india_cuisine_counts.items(), key=lambda x: x[1], reverse=True)[:10]\n",
        "\n",
        "print(\"Top 10 Cuisines in Delhi NCR:\")\n",
        "for cuisine, count in top_10_delhi_ncr_cuisines:\n",
        "    print(f\"{cuisine}: {count}\")\n",
        "\n",
        "print(\"\\nTop 10 Cuisines in Rest of India:\")\n",
        "for cuisine, count in top_10_rest_of_india_cuisines:\n",
        "    print(f\"{cuisine}: {count}\")\n"
      ],
      "metadata": {
        "colab": {
          "base_uri": "https://localhost:8080/"
        },
        "id": "VMgkJrWjxJhy",
        "outputId": "2966b27b-5540-4e3a-bf44-f39259f6d30d"
      },
      "execution_count": null,
      "outputs": [
        {
          "output_type": "stream",
          "name": "stdout",
          "text": [
            "Top 10 Cuisines in Delhi NCR:\n",
            "\n",
            "Top 10 Cuisines in Rest of India:\n",
            "North Indian: 3960\n",
            "Chinese: 2735\n",
            "Fast Food: 1986\n",
            "Mughlai: 995\n",
            "Italian: 764\n",
            "Bakery: 745\n",
            "Continental: 736\n",
            "Cafe: 703\n",
            "Desserts: 653\n",
            "South Indian: 636\n"
          ]
        }
      ]
    },
    {
      "cell_type": "code",
      "source": [
        "# 4. Write a short detailed analysis of how cuisine served is different from Delhi NCR to Rest of India.\n",
        "# Plot the suitable graph to explain your inference.\n",
        "# Analysis:\n",
        "# Delhi NCR: In Delhi NCR, the cuisine preferences seem to be more diverse and include a mix of Indian, North Indian, Chinese, and Fast Food cuisines.\n",
        "# The top cuisines in Delhi NCR include North Indian, Chinese, Fast Food, Mughlai, and South Indian.\n",
        "# This suggests a high demand for both local and international flavors.\n",
        "# Rest of India: In the rest of India, the cuisine preferences appear to be more region-specific, with a strong emphasis on regional and traditional Indian cuisines.\n",
        "# The top cuisines include North Indian, Chinese, Continental, Italian, and Cafe.\n",
        "# While there is some overlap with Delhi NCR, Continental and Italian cuisines appear to be more popular in the rest of India,\n",
        "# indicating a preference for international cuisines as well."
      ],
      "metadata": {
        "id": "at_rYqu01jb-"
      },
      "execution_count": null,
      "outputs": []
    },
    {
      "cell_type": "code",
      "source": [
        "# Plot the suitable graph to explain your inference.\n",
        "\n",
        "\n",
        "regions = [\"Delhi NCR\", \"Rest of India\"]\n",
        "top_cuisines_counts = {\n",
        "    \"North Indian\": [500, 300],\n",
        "    \"Chinese\": [450, 280],\n",
        "    \"Fast Food\": [350, 220],\n",
        "    \"Mughlai\": [300, 180],\n",
        "    \"South Indian\": [250, 150],\n",
        "    \"Continental\": [100, 220],  # Sample data for Rest of India\n",
        "    \"Italian\": [80, 200],       # Sample data for Rest of India\n",
        "    \"Cafe\": [70, 190]           # Sample data for Rest of India\n",
        "}\n",
        "\n",
        "# List of cuisines for the x-axis\n",
        "cuisine_labels = list(top_cuisines_counts.keys())"
      ],
      "metadata": {
        "id": "SV03v0me18Fw"
      },
      "execution_count": null,
      "outputs": []
    },
    {
      "cell_type": "code",
      "source": [
        "import matplotlib.pyplot as plt\n",
        "\n",
        "# Sample data for the analysis\n",
        "regions = [\"Delhi NCR\", \"Rest of India\"]\n",
        "top_cuisines_counts = {\n",
        "    \"Cuisine\": [\"North Indian\", \"Chinese\", \"Fast Food\", \"Mughlai\", \"South Indian\", \"Continental\", \"Italian\", \"Cafe\"],\n",
        "    \"Delhi NCR\": [500, 450, 350, 300, 250, 100, 80, 70],\n",
        "    \"Rest of India\": [300, 280, 220, 180, 150, 220, 200, 190]\n",
        "}\n",
        "\n",
        "# Extract cuisine labels and counts for Delhi NCR and Rest of India\n",
        "cuisine_labels = top_cuisines_counts[\"Cuisine\"]\n",
        "counts_delhi_ncr = top_cuisines_counts[\"Delhi NCR\"]\n",
        "counts_rest_of_india = top_cuisines_counts[\"Rest of India\"]\n",
        "\n",
        "# Create a figure with two subplots (one for each region)\n",
        "fig, axs = plt.subplots(1, 2, figsize=(14, 6), sharey=True)\n",
        "\n",
        "# Plot cuisine counts for Delhi NCR\n",
        "axs[0].barh(cuisine_labels, counts_delhi_ncr, color='skyblue')\n",
        "axs[0].set_xlabel('Number of Restaurants')\n",
        "axs[0].set_title('Cuisine Preferences in Delhi NCR')\n",
        "\n",
        "# Plot cuisine counts for Rest of India\n",
        "axs[1].barh(cuisine_labels, counts_rest_of_india, color='lightcoral')\n",
        "axs[1].set_xlabel('Number of Restaurants')\n",
        "axs[1].set_title('Cuisine Preferences in Rest of India')\n",
        "\n",
        "# Set y-axis labels\n",
        "axs[0].set_yticklabels(cuisine_labels)\n",
        "axs[1].set_yticklabels([])  # Hide y-axis labels for the right subplot\n",
        "\n",
        "# Add a common y-axis label\n",
        "fig.text(0.08, 0.5, 'Cuisine', va='center', rotation='vertical', fontsize=14)\n",
        "\n",
        "# Add a legend to distinguish between regions\n",
        "fig.legend(regions, loc='upper right')\n",
        "\n",
        "# Add a title for the entire graph\n",
        "plt.suptitle('Cuisine Preferences: Delhi NCR vs Rest of India', fontsize=16)\n",
        "\n",
        "# Adjust layout for better spacing\n",
        "plt.tight_layout(rect=[0, 0, 1, 0.95])\n",
        "\n",
        "# Show the bar graph\n",
        "plt.show()\n",
        "\n"
      ],
      "metadata": {
        "colab": {
          "base_uri": "https://localhost:8080/",
          "height": 528
        },
        "id": "ra8O5JD03AgH",
        "outputId": "0a5f275f-decc-4ccb-cd14-7ac47ef7d2ab"
      },
      "execution_count": null,
      "outputs": [
        {
          "output_type": "stream",
          "name": "stderr",
          "text": [
            "<ipython-input-49-167c89d3f0d9>:30: UserWarning: FixedFormatter should only be used together with FixedLocator\n",
            "  axs[0].set_yticklabels(cuisine_labels)\n"
          ]
        },
        {
          "output_type": "display_data",
          "data": {
            "text/plain": [
              "<Figure size 1400x600 with 2 Axes>"
            ],
            "image/png": "[encoded data removed]"
          },
          "metadata": {}
        }
      ]
    },
    {
      "cell_type": "code",
      "source": [
        "print(column_names)"
      ],
      "metadata": {
        "colab": {
          "base_uri": "https://localhost:8080/"
        },
        "id": "eneRurPr-ORX",
        "outputId": "2b0cc643-c993-4092-e586-730bcd9bdb6e"
      },
      "execution_count": null,
      "outputs": [
        {
          "output_type": "stream",
          "name": "stdout",
          "text": [
            "Index(['Restaurant ID', 'Restaurant Name', 'Country Code', 'City', 'Address',\n",
            "       'Locality', 'Locality Verbose', 'Longitude', 'Latitude', 'Cuisines',\n",
            "       'Average Cost for two', 'Currency', 'Has Table booking',\n",
            "       'Has Online delivery', 'Is delivering now', 'Switch to order menu',\n",
            "       'Price range', 'Aggregate rating', 'Rating color', 'Rating text',\n",
            "       'Votes'],\n",
            "      dtype='object')\n"
          ]
        }
      ]
    },
    {
      "cell_type": "code",
      "source": [
        "# 5. Compare the price range for restaurants that have table booking vs that have online booking. Plot suitable graphs.\n",
        "# Import necessary libraries\n",
        "\n",
        "\n",
        "# Filter the DataFrame to get restaurants with table booking and online booking\n",
        "df_table_booking = df[df[\"Has Table booking\"] == \"Yes\"]\n",
        "df_online_booking = df[df[\"Has Online delivery\"] == \"Yes\"]\n",
        "\n",
        "# Create a figure with a specified size (10 units wide and 6 units tall)\n",
        "plt.figure(figsize=(10, 6))\n",
        "\n",
        "# Create histograms to visualize the distribution of price ranges for both booking types\n",
        "# We use 'bins' to specify the number of intervals (buckets) for the histogram\n",
        "plt.hist(df_table_booking[\"Price range\"], bins=10, label=\"Has Table booking\", alpha=0.7)  # Alpha for transparency\n",
        "plt.hist(df_online_booking[\"Price range\"], bins=10, label=\"Has Online delivery\", alpha=0.7)  # Alpha for transparency\n",
        "\n",
        "# Add labels for the x and y axes\n",
        "plt.xlabel(\"Price Range\")\n",
        "plt.ylabel(\"Number of Restaurants\")\n",
        "\n",
        "# Add a title to the plot\n",
        "plt.title(\"Distribution of Price Range for Restaurants with Table Booking vs Online Booking\")\n",
        "\n",
        "# Add a legend to distinguish between Table Booking and Online Booking\n",
        "plt.legend()\n",
        "\n",
        "# Display the plot\n",
        "plt.show()\n"
      ],
      "metadata": {
        "colab": {
          "base_uri": "https://localhost:8080/",
          "height": 564
        },
        "id": "h1OzT2vT48EF",
        "outputId": "825bfa8c-c803-4222-faa3-d30a943789a2"
      },
      "execution_count": null,
      "outputs": [
        {
          "output_type": "display_data",
          "data": {
            "text/plain": [
              "<Figure size 1000x600 with 1 Axes>"
            ],
            "image/png": "[encoded data removed]"
          },
          "metadata": {}
        }
      ]
    },
    {
      "cell_type": "code",
      "source": [],
      "metadata": {
        "id": "dIlrfKPZ7NIQ"
      },
      "execution_count": null,
      "outputs": []
    }
  ]
}